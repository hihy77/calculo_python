{
 "cells": [
  {
   "cell_type": "markdown",
   "metadata": {
    "id": "qAjxBr4QE-Sz"
   },
   "source": [
    "#**INTRODUCCIÓN AL CÁLCULO CON PYTHON**\n",
    "**Python** es un lenguaje de programación multiplataforma y de código abierto que puede utilizarse tanto para desarrollo web, creación de software y procesamiento de datos, entre muchos otros propósitos. Las cosas que puedes hacer con Python son prácticamente ilimitadas. Como por ejemplo para extraer datos de Twitter con Python o crear tu propio Bot de Telegram. Hoy vamos a dar una breve mirada de sus posibilidades con el cálculo\n",
    "**Colab** tiene dos tipos de celdas: texto y código. Las celdas de texto usan un lenguaje de marca llamado Markdown. Sin embargo reconoce lenguage Latex que es el que vamos a usar, latex es un lenguaje utilizado para escribir documentos de matemática e ingeniería."
   ]
  },
  {
   "cell_type": "markdown",
   "metadata": {
    "id": "IvxaC1MlF_e7"
   },
   "source": [
    "Vamos a utilizar dos librerías numpy permite el cálculo numérico y simpy permite el cálculo simbólico"
   ]
  },
  {
   "cell_type": "code",
   "execution_count": 2,
   "metadata": {
    "executionInfo": {
     "elapsed": 1135,
     "status": "ok",
     "timestamp": 1647313048460,
     "user": {
      "displayName": "H4RV3Y H3RN4ND3Z",
      "photoUrl": "https://lh3.googleusercontent.com/a-/AOh14Gh6g8Gd0ymExy-3GPDuM41yz6q1wr7bV66RTDzYKdc=s64",
      "userId": "15751696036387251069"
     },
     "user_tz": 300
    },
    "id": "oSVjb99qE7qj"
   },
   "outputs": [],
   "source": [
    "from numpy import* #numérico\n",
    "import numpy as np #llame la función con np\n",
    "from sympy import* #simbólico\n"
   ]
  },
  {
   "cell_type": "markdown",
   "metadata": {
    "id": "-VrZZo65HF2y"
   },
   "source": [
    "Queremos definir la función $f(x)=\\sqrt{x+2}$ en phyton lo hacemos de utilizando el comando def\n"
   ]
  },
  {
   "cell_type": "code",
   "execution_count": 3,
   "metadata": {
    "executionInfo": {
     "elapsed": 234,
     "status": "ok",
     "timestamp": 1647313052879,
     "user": {
      "displayName": "H4RV3Y H3RN4ND3Z",
      "photoUrl": "https://lh3.googleusercontent.com/a-/AOh14Gh6g8Gd0ymExy-3GPDuM41yz6q1wr7bV66RTDzYKdc=s64",
      "userId": "15751696036387251069"
     },
     "user_tz": 300
    },
    "id": "nelOJj_PHf1N"
   },
   "outputs": [],
   "source": [
    "def f(x):\n",
    "  return np.sqrt(x+2)\n",
    "  "
   ]
  },
  {
   "cell_type": "markdown",
   "metadata": {
    "id": "GnhTFqfZI1YX"
   },
   "source": [
    "En este ejemplo, primero estamos importando la librería numpy, para trabajar más fácilmente con vectores, los cuales simplifican los cálculos numéricos. Luego utilizamos la instrucción def para definir la función, que este caso se va a llamar f y va a tener como único parámetro al objeto x. Esta función nos va a devolver el valor de la raíz cuadrada de x+2. Ahora, si por ejemplo quisiéramos saber los valores de la función f(x) para los x,−2,−1,0,2,4 y 6. podríamos invocar a esta función de la siguiente manera:"
   ]
  },
  {
   "cell_type": "code",
   "execution_count": 4,
   "metadata": {
    "colab": {
     "base_uri": "https://localhost:8080/"
    },
    "executionInfo": {
     "elapsed": 234,
     "status": "ok",
     "timestamp": 1637810966922,
     "user": {
      "displayName": "H4RV3Y H3RN4ND3Z",
      "photoUrl": "https://lh3.googleusercontent.com/a-/AOh14Gh6g8Gd0ymExy-3GPDuM41yz6q1wr7bV66RTDzYKdc=s64",
      "userId": "15751696036387251069"
     },
     "user_tz": 300
    },
    "id": "sdydVZcGI8sz",
    "outputId": "e45a6be3-b84d-4607-cf65-321f79b1a90d",
    "scrolled": true
   },
   "outputs": [
    {
     "data": {
      "text/plain": [
       "array([0.        , 1.        , 1.41421356, 2.        , 2.44948974,\n",
       "       2.82842712])"
      ]
     },
     "execution_count": 4,
     "metadata": {},
     "output_type": "execute_result"
    }
   ],
   "source": [
    "x = np.array([-2, -1, 0, 2, 4, 6])  # Creando el vector de valores de x\n",
    "y = f(x)\n",
    "y"
   ]
  },
  {
   "cell_type": "markdown",
   "metadata": {
    "id": "8GYwWyFbJQRV"
   },
   "source": [
    "Si quisiéramos verlo en forma de tabla, podemos ayudarnos de la librería pandas y su estructura de datos DataFrame, la cual tiene una forma tabular."
   ]
  },
  {
   "cell_type": "code",
   "execution_count": null,
   "metadata": {
    "colab": {
     "base_uri": "https://localhost:8080/",
     "height": 237
    },
    "executionInfo": {
     "elapsed": 311,
     "status": "ok",
     "timestamp": 1637811048856,
     "user": {
      "displayName": "H4RV3Y H3RN4ND3Z",
      "photoUrl": "https://lh3.googleusercontent.com/a-/AOh14Gh6g8Gd0ymExy-3GPDuM41yz6q1wr7bV66RTDzYKdc=s64",
      "userId": "15751696036387251069"
     },
     "user_tz": 300
    },
    "id": "ch8PcNRbJRnk",
    "outputId": "085d51e6-9396-4726-cd83-de7aae581495"
   },
   "outputs": [
    {
     "data": {
      "text/html": [
       "<div>\n",
       "<style scoped>\n",
       "    .dataframe tbody tr th:only-of-type {\n",
       "        vertical-align: middle;\n",
       "    }\n",
       "\n",
       "    .dataframe tbody tr th {\n",
       "        vertical-align: top;\n",
       "    }\n",
       "\n",
       "    .dataframe thead th {\n",
       "        text-align: right;\n",
       "    }\n",
       "</style>\n",
       "<table border=\"1\" class=\"dataframe\">\n",
       "  <thead>\n",
       "    <tr style=\"text-align: right;\">\n",
       "      <th></th>\n",
       "      <th>x</th>\n",
       "      <th>f(x)</th>\n",
       "    </tr>\n",
       "  </thead>\n",
       "  <tbody>\n",
       "    <tr>\n",
       "      <th>0</th>\n",
       "      <td>-2</td>\n",
       "      <td>0.000000</td>\n",
       "    </tr>\n",
       "    <tr>\n",
       "      <th>1</th>\n",
       "      <td>-1</td>\n",
       "      <td>1.000000</td>\n",
       "    </tr>\n",
       "    <tr>\n",
       "      <th>2</th>\n",
       "      <td>0</td>\n",
       "      <td>1.414214</td>\n",
       "    </tr>\n",
       "    <tr>\n",
       "      <th>3</th>\n",
       "      <td>2</td>\n",
       "      <td>2.000000</td>\n",
       "    </tr>\n",
       "    <tr>\n",
       "      <th>4</th>\n",
       "      <td>4</td>\n",
       "      <td>2.449490</td>\n",
       "    </tr>\n",
       "    <tr>\n",
       "      <th>5</th>\n",
       "      <td>6</td>\n",
       "      <td>2.828427</td>\n",
       "    </tr>\n",
       "  </tbody>\n",
       "</table>\n",
       "</div>"
      ],
      "text/plain": [
       "   x      f(x)\n",
       "0 -2  0.000000\n",
       "1 -1  1.000000\n",
       "2  0  1.414214\n",
       "3  2  2.000000\n",
       "4  4  2.449490\n",
       "5  6  2.828427"
      ]
     },
     "execution_count": 15,
     "metadata": {},
     "output_type": "execute_result"
    }
   ],
   "source": [
    "import pandas as pd\n",
    "\n",
    "tabla = pd.DataFrame( list(zip(x, y)), columns=['x', 'f(x)'] )\n",
    "tabla"
   ]
  },
  {
   "cell_type": "markdown",
   "metadata": {
    "id": "VBiKR_YMJdyR"
   },
   "source": [
    "Por último, si quisiéramos graficar funciones con Python, podemos utilizar la librería Matplotlib, y pasarle los valores de x e y al método plot del objeto pyplot."
   ]
  },
  {
   "cell_type": "code",
   "execution_count": null,
   "metadata": {
    "colab": {
     "base_uri": "https://localhost:8080/",
     "height": 292
    },
    "executionInfo": {
     "elapsed": 689,
     "status": "ok",
     "timestamp": 1637811734214,
     "user": {
      "displayName": "H4RV3Y H3RN4ND3Z",
      "photoUrl": "https://lh3.googleusercontent.com/a-/AOh14Gh6g8Gd0ymExy-3GPDuM41yz6q1wr7bV66RTDzYKdc=s64",
      "userId": "15751696036387251069"
     },
     "user_tz": 300
    },
    "id": "DHvcdh-nJesY",
    "outputId": "26bf6e06-3d2b-43a5-c41f-1cc29a3c5829"
   },
   "outputs": [
    {
     "data": {
      "image/png": "[encoded data removed]",
      "text/plain": [
       "<Figure size 432x288 with 1 Axes>"
      ]
     },
     "metadata": {
      "needs_background": "light"
     },
     "output_type": "display_data"
    }
   ],
   "source": [
    "import matplotlib.pyplot as plt # se llama a la libreria Matplotlib \n",
    "\n",
    "def move_spines():  # Crea la figura de pyplot y los ejes, mueve el centro de la fig\n",
    "    fix, ax = plt.subplots()\n",
    "    for spine in [\"left\", \"bottom\"]:  #izquierda, abajo\n",
    "        ax.spines[spine].set_position(\"zero\")\n",
    "    for spine in [\"right\", \"top\"]: #derecha, arriba\n",
    "        ax.spines[spine].set_color(\"none\")\n",
    "    return ax\n",
    "x = np.linspace(-2, 6, num=30) #(valor-inicial, valor-final, número de valores)\n",
    "ax = move_spines()\n",
    "ax.grid() \n",
    "ax.plot(x, f(x))\n",
    "plt.title(r\"Grafico de $f(x)=\\sqrt{x + 2}$\")\n",
    "plt.ylabel('f(x)')\n",
    "plt.xlabel('x')\n",
    "plt.show()"
   ]
  },
  {
   "cell_type": "markdown",
   "metadata": {
    "id": "jKUKXUnmM89G"
   },
   "source": [
    "# **Límites**\n",
    "Así por ejemplo si analizamos la función $f(x)=x^2−x+2$, para los valores cercanos a 2, podríamos ver los siguientes resultados."
   ]
  },
  {
   "cell_type": "code",
   "execution_count": null,
   "metadata": {
    "colab": {
     "base_uri": "https://localhost:8080/",
     "height": 425
    },
    "executionInfo": {
     "elapsed": 197,
     "status": "ok",
     "timestamp": 1637812279873,
     "user": {
      "displayName": "H4RV3Y H3RN4ND3Z",
      "photoUrl": "https://lh3.googleusercontent.com/a-/AOh14Gh6g8Gd0ymExy-3GPDuM41yz6q1wr7bV66RTDzYKdc=s64",
      "userId": "15751696036387251069"
     },
     "user_tz": 300
    },
    "id": "67XFEpdoN_uD",
    "outputId": "6fa001b0-e703-427b-ad9e-cf8fc644c423"
   },
   "outputs": [
    {
     "data": {
      "text/html": [
       "<div>\n",
       "<style scoped>\n",
       "    .dataframe tbody tr th:only-of-type {\n",
       "        vertical-align: middle;\n",
       "    }\n",
       "\n",
       "    .dataframe tbody tr th {\n",
       "        vertical-align: top;\n",
       "    }\n",
       "\n",
       "    .dataframe thead th {\n",
       "        text-align: right;\n",
       "    }\n",
       "</style>\n",
       "<table border=\"1\" class=\"dataframe\">\n",
       "  <thead>\n",
       "    <tr style=\"text-align: right;\">\n",
       "      <th></th>\n",
       "      <th>x</th>\n",
       "      <th>f(x)</th>\n",
       "    </tr>\n",
       "  </thead>\n",
       "  <tbody>\n",
       "    <tr>\n",
       "      <th>0</th>\n",
       "      <td>1.000</td>\n",
       "      <td>2.000000</td>\n",
       "    </tr>\n",
       "    <tr>\n",
       "      <th>1</th>\n",
       "      <td>1.500</td>\n",
       "      <td>2.750000</td>\n",
       "    </tr>\n",
       "    <tr>\n",
       "      <th>2</th>\n",
       "      <td>1.900</td>\n",
       "      <td>3.710000</td>\n",
       "    </tr>\n",
       "    <tr>\n",
       "      <th>3</th>\n",
       "      <td>1.950</td>\n",
       "      <td>3.852500</td>\n",
       "    </tr>\n",
       "    <tr>\n",
       "      <th>4</th>\n",
       "      <td>1.990</td>\n",
       "      <td>3.970100</td>\n",
       "    </tr>\n",
       "    <tr>\n",
       "      <th>5</th>\n",
       "      <td>1.999</td>\n",
       "      <td>3.997001</td>\n",
       "    </tr>\n",
       "    <tr>\n",
       "      <th>6</th>\n",
       "      <td>2.001</td>\n",
       "      <td>4.003001</td>\n",
       "    </tr>\n",
       "    <tr>\n",
       "      <th>7</th>\n",
       "      <td>2.050</td>\n",
       "      <td>4.152500</td>\n",
       "    </tr>\n",
       "    <tr>\n",
       "      <th>8</th>\n",
       "      <td>2.100</td>\n",
       "      <td>4.310000</td>\n",
       "    </tr>\n",
       "    <tr>\n",
       "      <th>9</th>\n",
       "      <td>2.200</td>\n",
       "      <td>4.640000</td>\n",
       "    </tr>\n",
       "    <tr>\n",
       "      <th>10</th>\n",
       "      <td>2.500</td>\n",
       "      <td>5.750000</td>\n",
       "    </tr>\n",
       "    <tr>\n",
       "      <th>11</th>\n",
       "      <td>3.000</td>\n",
       "      <td>8.000000</td>\n",
       "    </tr>\n",
       "  </tbody>\n",
       "</table>\n",
       "</div>"
      ],
      "text/plain": [
       "        x      f(x)\n",
       "0   1.000  2.000000\n",
       "1   1.500  2.750000\n",
       "2   1.900  3.710000\n",
       "3   1.950  3.852500\n",
       "4   1.990  3.970100\n",
       "5   1.999  3.997001\n",
       "6   2.001  4.003001\n",
       "7   2.050  4.152500\n",
       "8   2.100  4.310000\n",
       "9   2.200  4.640000\n",
       "10  2.500  5.750000\n",
       "11  3.000  8.000000"
      ]
     },
     "execution_count": 19,
     "metadata": {},
     "output_type": "execute_result"
    }
   ],
   "source": [
    "def f(x):\n",
    "    return x**2 - x + 2\n",
    "\n",
    "x = np.array([1, 1.5, 1.9, 1.95, 1.99, 1.999, 2.001, 2.05, 2.1, 2.2, 2.5, 3 ])\n",
    "y = f(x)\n",
    "tabla = pd.DataFrame(list(zip(x, y)), columns=['x', 'f(x)'])\n",
    "tabla"
   ]
  },
  {
   "cell_type": "markdown",
   "metadata": {
    "id": "g0UnlITGOWQr"
   },
   "source": [
    "De acuerdo con esta tabla, podemos ver que a medida que hacemos al valor de x cercano a 2, vemos que f(x) se hace muy cercana a 4. Incluso podríamos hacer a f(x) tan cercana como queramos a 4, haciendo que x este lo suficientemente cerca de 2. Por lo tanto, podemos expresar esta propiedad diciendo que el \"Límite de la función f(x)=x2−x+2 cuando x se acerca a 2 es igual a 4.\" y lo podemos representar Gráficamente  del siguiente modo."
   ]
  },
  {
   "cell_type": "code",
   "execution_count": null,
   "metadata": {
    "colab": {
     "base_uri": "https://localhost:8080/",
     "height": 318
    },
    "executionInfo": {
     "elapsed": 723,
     "status": "ok",
     "timestamp": 1637812528903,
     "user": {
      "displayName": "H4RV3Y H3RN4ND3Z",
      "photoUrl": "https://lh3.googleusercontent.com/a-/AOh14Gh6g8Gd0ymExy-3GPDuM41yz6q1wr7bV66RTDzYKdc=s64",
      "userId": "15751696036387251069"
     },
     "user_tz": 300
    },
    "id": "tU5R9iKqOY26",
    "outputId": "7d32dea1-4d78-4d78-af7a-7e9e4676f433"
   },
   "outputs": [
    {
     "data": {
      "image/png": "[encoded data removed]",
      "text/plain": [
       "<Figure size 432x288 with 1 Axes>"
      ]
     },
     "metadata": {
      "needs_background": "light"
     },
     "output_type": "display_data"
    }
   ],
   "source": [
    "x = np.linspace(-2, 4, num=30)\n",
    "\n",
    "ax = move_spines()\n",
    "ax.grid()\n",
    "ax.plot(x, f(x))\n",
    "ax.scatter(2, 4, label=\"limite cuando x tiende a 2\", color='r')\n",
    "plt.legend()\n",
    "plt.title(r\"Grafico de $f(x)=x^2 -x + 2$\")\n",
    "plt.ylabel('f(x)')\n",
    "plt.xlabel('x')\n",
    "plt.show()"
   ]
  },
  {
   "cell_type": "markdown",
   "metadata": {
    "id": "pLmkSwnxPpg8"
   },
   "source": [
    "## Limites simbolicos\n",
    "Su sintaxis es la siguiente: Limit(función, variable, punto). Entonces para calcular el límite de f(x) cuando x tiende a 2, debemos escribir:\n"
   ]
  },
  {
   "cell_type": "code",
   "execution_count": null,
   "metadata": {
    "colab": {
     "base_uri": "https://localhost:8080/",
     "height": 45
    },
    "executionInfo": {
     "elapsed": 239,
     "status": "ok",
     "timestamp": 1637812937965,
     "user": {
      "displayName": "H4RV3Y H3RN4ND3Z",
      "photoUrl": "https://lh3.googleusercontent.com/a-/AOh14Gh6g8Gd0ymExy-3GPDuM41yz6q1wr7bV66RTDzYKdc=s64",
      "userId": "15751696036387251069"
     },
     "user_tz": 300
    },
    "id": "vH1LfFhyQhM_",
    "outputId": "2d8da308-6688-4a97-f2a5-ece6abbb90a9"
   },
   "outputs": [
    {
     "data": {
      "text/latex": [
       "$\\displaystyle \\lim_{x \\to 2^+}\\left(x^{2} - x + 2\\right)$"
      ],
      "text/plain": [
       "Limit(x**2 - x + 2, x, 2)"
      ]
     },
     "execution_count": 21,
     "metadata": {},
     "output_type": "execute_result"
    }
   ],
   "source": [
    "x = Symbol('x') # Creando el simbolo x.\n",
    "Limit(x**2 - x + 2, x, 2)"
   ]
  },
  {
   "cell_type": "code",
   "execution_count": null,
   "metadata": {
    "colab": {
     "base_uri": "https://localhost:8080/",
     "height": 37
    },
    "executionInfo": {
     "elapsed": 205,
     "status": "ok",
     "timestamp": 1637812998881,
     "user": {
      "displayName": "H4RV3Y H3RN4ND3Z",
      "photoUrl": "https://lh3.googleusercontent.com/a-/AOh14Gh6g8Gd0ymExy-3GPDuM41yz6q1wr7bV66RTDzYKdc=s64",
      "userId": "15751696036387251069"
     },
     "user_tz": 300
    },
    "id": "4PhK-oVkQweL",
    "outputId": "66fe4787-d872-4093-8c6a-b37af37b27e4"
   },
   "outputs": [
    {
     "data": {
      "text/latex": [
       "$\\displaystyle 4$"
      ],
      "text/plain": [
       "4"
      ]
     },
     "execution_count": 22,
     "metadata": {},
     "output_type": "execute_result"
    }
   ],
   "source": [
    "# Resolviendo el Limite con el metodo doit()\n",
    "Limit(x**2 - x + 2, x, 2).doit()"
   ]
  },
  {
   "cell_type": "markdown",
   "metadata": {
    "id": "WfKHIxd4Q9NN"
   },
   "source": [
    "# **DERIVADAS**\n",
    "Con Python, podemos resolver Derivadas utilizando nuevamente la librería SymPy. En este caso, ahora vamos a utilizar el objeto Derivative. Su sintaxis es la siguiente: Derivative(funcion, variable, orden de derivación). Lo utilizamos de la siguiente forma:\n"
   ]
  },
  {
   "cell_type": "code",
   "execution_count": null,
   "metadata": {
    "colab": {
     "base_uri": "https://localhost:8080/",
     "height": 38
    },
    "executionInfo": {
     "elapsed": 559,
     "status": "ok",
     "timestamp": 1637813105533,
     "user": {
      "displayName": "H4RV3Y H3RN4ND3Z",
      "photoUrl": "https://lh3.googleusercontent.com/a-/AOh14Gh6g8Gd0ymExy-3GPDuM41yz6q1wr7bV66RTDzYKdc=s64",
      "userId": "15751696036387251069"
     },
     "user_tz": 300
    },
    "id": "m_AAEWysRKVU",
    "outputId": "49b8fb0a-6324-4810-e0f0-9b8b91777a22"
   },
   "outputs": [
    {
     "data": {
      "text/latex": [
       "$\\displaystyle 2 x^{3} + 3 x^{2} \\left(2 x + 1\\right) + 4$"
      ],
      "text/plain": [
       "2*x**3 + 3*x**2*(2*x + 1) + 4"
      ]
     },
     "execution_count": 23,
     "metadata": {},
     "output_type": "execute_result"
    }
   ],
   "source": [
    "fx = (2*x + 1)*(x**3 + 2)\n",
    "dx = Derivative(fx, x).doit()\n",
    "dx"
   ]
  },
  {
   "cell_type": "code",
   "execution_count": null,
   "metadata": {
    "colab": {
     "base_uri": "https://localhost:8080/",
     "height": 38
    },
    "executionInfo": {
     "elapsed": 251,
     "status": "ok",
     "timestamp": 1637813124332,
     "user": {
      "displayName": "H4RV3Y H3RN4ND3Z",
      "photoUrl": "https://lh3.googleusercontent.com/a-/AOh14Gh6g8Gd0ymExy-3GPDuM41yz6q1wr7bV66RTDzYKdc=s64",
      "userId": "15751696036387251069"
     },
     "user_tz": 300
    },
    "id": "34H16mKBRO2h",
    "outputId": "d9ec7be2-78fd-489d-dba9-9fecdfef3917"
   },
   "outputs": [
    {
     "data": {
      "text/latex": [
       "$\\displaystyle 8 x^{3} + 3 x^{2} + 4$"
      ],
      "text/plain": [
       "8*x**3 + 3*x**2 + 4"
      ]
     },
     "execution_count": 24,
     "metadata": {},
     "output_type": "execute_result"
    }
   ],
   "source": [
    "# simplificando los resultados\n",
    "simplify(dx)"
   ]
  },
  {
   "cell_type": "code",
   "execution_count": null,
   "metadata": {
    "colab": {
     "base_uri": "https://localhost:8080/",
     "height": 38
    },
    "executionInfo": {
     "elapsed": 266,
     "status": "ok",
     "timestamp": 1637813179119,
     "user": {
      "displayName": "H4RV3Y H3RN4ND3Z",
      "photoUrl": "https://lh3.googleusercontent.com/a-/AOh14Gh6g8Gd0ymExy-3GPDuM41yz6q1wr7bV66RTDzYKdc=s64",
      "userId": "15751696036387251069"
     },
     "user_tz": 300
    },
    "id": "4_Ar22YWRaNM",
    "outputId": "a22aa52f-7b16-4438-a288-8f9c59428a52"
   },
   "outputs": [
    {
     "data": {
      "text/latex": [
       "$\\displaystyle 6 x \\left(4 x + 1\\right)$"
      ],
      "text/plain": [
       "6*x*(4*x + 1)"
      ]
     },
     "execution_count": 25,
     "metadata": {},
     "output_type": "execute_result"
    }
   ],
   "source": [
    "# Derivada de segundo orden con el 3er argumento.\n",
    "Derivative(fx, x, 2).doit()"
   ]
  },
  {
   "cell_type": "code",
   "execution_count": null,
   "metadata": {
    "colab": {
     "base_uri": "https://localhost:8080/",
     "height": 51
    },
    "executionInfo": {
     "elapsed": 253,
     "status": "ok",
     "timestamp": 1637813219773,
     "user": {
      "displayName": "H4RV3Y H3RN4ND3Z",
      "photoUrl": "https://lh3.googleusercontent.com/a-/AOh14Gh6g8Gd0ymExy-3GPDuM41yz6q1wr7bV66RTDzYKdc=s64",
      "userId": "15751696036387251069"
     },
     "user_tz": 300
    },
    "id": "q5ghmGxSRmDx",
    "outputId": "bd2c7c6a-526d-4c84-c6bf-00baa3699c11"
   },
   "outputs": [
    {
     "data": {
      "text/latex": [
       "$\\displaystyle - \\frac{1}{2 x^{2}}$"
      ],
      "text/plain": [
       "-1/(2*x**2)"
      ]
     },
     "execution_count": 26,
     "metadata": {},
     "output_type": "execute_result"
    }
   ],
   "source": [
    "# Calculando derivada de (3x +1) / (2x)\n",
    "fx = (3*x + 1) / (2*x)\n",
    "dx = Derivative(fx, x).doit()\n",
    "simplify(dx)"
   ]
  },
  {
   "cell_type": "code",
   "execution_count": null,
   "metadata": {
    "colab": {
     "base_uri": "https://localhost:8080/",
     "height": 51
    },
    "executionInfo": {
     "elapsed": 189,
     "status": "ok",
     "timestamp": 1637813241364,
     "user": {
      "displayName": "H4RV3Y H3RN4ND3Z",
      "photoUrl": "https://lh3.googleusercontent.com/a-/AOh14Gh6g8Gd0ymExy-3GPDuM41yz6q1wr7bV66RTDzYKdc=s64",
      "userId": "15751696036387251069"
     },
     "user_tz": 300
    },
    "id": "7I0Z1cJBRrj3",
    "outputId": "be18182b-cd21-449f-ee23-698d11407f6e"
   },
   "outputs": [
    {
     "data": {
      "text/latex": [
       "$\\displaystyle - \\frac{1}{2 x^{2}}$"
      ],
      "text/plain": [
       "-1/(2*x**2)"
      ]
     },
     "execution_count": 27,
     "metadata": {},
     "output_type": "execute_result"
    }
   ],
   "source": [
    "# la función diff nos da directamente el resultado\n",
    "simplify(diff(fx, x))"
   ]
  },
  {
   "cell_type": "markdown",
   "metadata": {
    "id": "wNv4DFNXSXjl"
   },
   "source": [
    "# **INTEGRALES**\n"
   ]
  },
  {
   "cell_type": "code",
   "execution_count": null,
   "metadata": {
    "id": "WeALiZ5MSs3G"
   },
   "outputs": [],
   "source": [
    "x = Symbol('x')\n",
    "y = Symbol('y')\n",
    "i = Symbol('i')\n",
    "n = Symbol('n')"
   ]
  },
  {
   "cell_type": "markdown",
   "metadata": {
    "id": "JB3m_T6jSzQy"
   },
   "source": [
    "## **Notación Sigma**\n",
    "\n",
    "Podemos representar sumas en notación sigma y calcular su suma."
   ]
  },
  {
   "cell_type": "markdown",
   "metadata": {
    "id": "G8drywlBS9xk"
   },
   "source": [
    "Vamos a calcular $\\displaystyle{\\sum_{i=1}^{10} i^2}$"
   ]
  },
  {
   "cell_type": "code",
   "execution_count": null,
   "metadata": {
    "colab": {
     "base_uri": "https://localhost:8080/",
     "height": 69
    },
    "executionInfo": {
     "elapsed": 238,
     "status": "ok",
     "timestamp": 1637813591674,
     "user": {
      "displayName": "H4RV3Y H3RN4ND3Z",
      "photoUrl": "https://lh3.googleusercontent.com/a-/AOh14Gh6g8Gd0ymExy-3GPDuM41yz6q1wr7bV66RTDzYKdc=s64",
      "userId": "15751696036387251069"
     },
     "user_tz": 300
    },
    "id": "Ygpf2iumS_Yo",
    "outputId": "74f00e77-fe8b-4f3e-9603-33ee47f0f947"
   },
   "outputs": [
    {
     "data": {
      "text/latex": [
       "$\\displaystyle \\sum_{i=1}^{10} i^{2}$"
      ],
      "text/plain": [
       "Sum(i**2, (i, 1, 10))"
      ]
     },
     "execution_count": 29,
     "metadata": {},
     "output_type": "execute_result"
    }
   ],
   "source": [
    "square_sum = Sum(i**2, (i, 1, 10))\n",
    "square_sum"
   ]
  },
  {
   "cell_type": "markdown",
   "metadata": {
    "id": "ey75lFQ5TOpO"
   },
   "source": [
    "A continuación, para calcular la suma usammos el comando doit()"
   ]
  },
  {
   "cell_type": "code",
   "execution_count": null,
   "metadata": {
    "colab": {
     "base_uri": "https://localhost:8080/",
     "height": 37
    },
    "executionInfo": {
     "elapsed": 180,
     "status": "ok",
     "timestamp": 1637813660902,
     "user": {
      "displayName": "H4RV3Y H3RN4ND3Z",
      "photoUrl": "https://lh3.googleusercontent.com/a-/AOh14Gh6g8Gd0ymExy-3GPDuM41yz6q1wr7bV66RTDzYKdc=s64",
      "userId": "15751696036387251069"
     },
     "user_tz": 300
    },
    "id": "CbDiw44FTP6O",
    "outputId": "1ee8df95-5f7c-4047-d85e-f280ab8cb4ad"
   },
   "outputs": [
    {
     "data": {
      "text/latex": [
       "$\\displaystyle 385$"
      ],
      "text/plain": [
       "385"
      ]
     },
     "execution_count": 30,
     "metadata": {},
     "output_type": "execute_result"
    }
   ],
   "source": [
    "square_sum.doit()"
   ]
  },
  {
   "cell_type": "markdown",
   "metadata": {
    "id": "QkS0zubhTXSo"
   },
   "source": [
    "## **Sumas de Riemann**\n",
    "\n",
    "Ahora vamos a calcular áreas bajo la curva por medio de sumas de Riemann.\n",
    "\n",
    "Calculemos $\\displaystyle{\\sum_{i=1}^n \\frac{i^2}{n^3}}$, para ello utilizamos el comando Sum(). "
   ]
  },
  {
   "cell_type": "code",
   "execution_count": null,
   "metadata": {
    "colab": {
     "base_uri": "https://localhost:8080/",
     "height": 58
    },
    "executionInfo": {
     "elapsed": 256,
     "status": "ok",
     "timestamp": 1637813699197,
     "user": {
      "displayName": "H4RV3Y H3RN4ND3Z",
      "photoUrl": "https://lh3.googleusercontent.com/a-/AOh14Gh6g8Gd0ymExy-3GPDuM41yz6q1wr7bV66RTDzYKdc=s64",
      "userId": "15751696036387251069"
     },
     "user_tz": 300
    },
    "id": "aeyh1pTkTYtV",
    "outputId": "ada3875e-fc21-47cf-9282-8503496e9b42"
   },
   "outputs": [
    {
     "data": {
      "text/latex": [
       "$\\displaystyle \\frac{\\frac{n^{3}}{3} + \\frac{n^{2}}{2} + \\frac{n}{6}}{n^{3}}$"
      ],
      "text/plain": [
       "(n**3/3 + n**2/2 + n/6)/n**3"
      ]
     },
     "execution_count": 31,
     "metadata": {},
     "output_type": "execute_result"
    }
   ],
   "source": [
    "sq_sum = Sum(i**2/n**3, (i, 1, n)).doit()\n",
    "sq_sum"
   ]
  },
  {
   "cell_type": "markdown",
   "metadata": {
    "id": "60yQSmuhTntn"
   },
   "source": [
    "Ahora calculamos el límite de la suma de Riemann utilizando limit()"
   ]
  },
  {
   "cell_type": "code",
   "execution_count": null,
   "metadata": {
    "colab": {
     "base_uri": "https://localhost:8080/",
     "height": 51
    },
    "executionInfo": {
     "elapsed": 292,
     "status": "ok",
     "timestamp": 1637813763628,
     "user": {
      "displayName": "H4RV3Y H3RN4ND3Z",
      "photoUrl": "https://lh3.googleusercontent.com/a-/AOh14Gh6g8Gd0ymExy-3GPDuM41yz6q1wr7bV66RTDzYKdc=s64",
      "userId": "15751696036387251069"
     },
     "user_tz": 300
    },
    "id": "TkgEtrXgTpDB",
    "outputId": "9d5ab62d-ac0f-4ac5-f2d2-4f409c50b04a"
   },
   "outputs": [
    {
     "data": {
      "text/latex": [
       "$\\displaystyle \\frac{1}{3}$"
      ],
      "text/plain": [
       "1/3"
      ]
     },
     "execution_count": 32,
     "metadata": {},
     "output_type": "execute_result"
    }
   ],
   "source": [
    "sq_sum.limit(n, oo)"
   ]
  },
  {
   "cell_type": "markdown",
   "metadata": {
    "id": "Ts9tLev5TvJH"
   },
   "source": [
    "## **Integrales Definidas**\n",
    "\n",
    "Para calcular integrales de la forma $ \\displaystyle{\\int_a^b f(x)\\,dx} $ utilizamos el comando integrate()"
   ]
  },
  {
   "cell_type": "code",
   "execution_count": null,
   "metadata": {
    "colab": {
     "base_uri": "https://localhost:8080/",
     "height": 54
    },
    "executionInfo": {
     "elapsed": 213,
     "status": "ok",
     "timestamp": 1637813794043,
     "user": {
      "displayName": "H4RV3Y H3RN4ND3Z",
      "photoUrl": "https://lh3.googleusercontent.com/a-/AOh14Gh6g8Gd0ymExy-3GPDuM41yz6q1wr7bV66RTDzYKdc=s64",
      "userId": "15751696036387251069"
     },
     "user_tz": 300
    },
    "id": "fRRYiY-ITwLp",
    "outputId": "7114feda-e08c-4de7-9289-7686dd96b440"
   },
   "outputs": [
    {
     "data": {
      "text/latex": [
       "$\\displaystyle \\frac{x^{3}}{3}$"
      ],
      "text/plain": [
       "x**3/3"
      ]
     },
     "execution_count": 33,
     "metadata": {},
     "output_type": "execute_result"
    }
   ],
   "source": [
    "integrate(x**2, x)"
   ]
  },
  {
   "cell_type": "markdown",
   "metadata": {
    "id": "gIMmsa5vT2cb"
   },
   "source": [
    "## **Integrales impropias**\n",
    "\n",
    "Para calcular integrales de la forma $ \\displaystyle{\\int_{a}^{\\infty} f(x)\\,dx} $ utilizamos el comando integrate() y el símbolo \"oo\" para representar $\\infty$."
   ]
  },
  {
   "cell_type": "code",
   "execution_count": null,
   "metadata": {
    "colab": {
     "base_uri": "https://localhost:8080/",
     "height": 37
    },
    "executionInfo": {
     "elapsed": 493,
     "status": "ok",
     "timestamp": 1637813823536,
     "user": {
      "displayName": "H4RV3Y H3RN4ND3Z",
      "photoUrl": "https://lh3.googleusercontent.com/a-/AOh14Gh6g8Gd0ymExy-3GPDuM41yz6q1wr7bV66RTDzYKdc=s64",
      "userId": "15751696036387251069"
     },
     "user_tz": 300
    },
    "id": "Mz7e6bi0T3Ot",
    "outputId": "01e0bc14-31e4-42b4-cf53-8dd3bd8fdaf1"
   },
   "outputs": [
    {
     "data": {
      "text/latex": [
       "$\\displaystyle 1$"
      ],
      "text/plain": [
       "1"
      ]
     },
     "execution_count": 34,
     "metadata": {},
     "output_type": "execute_result"
    }
   ],
   "source": [
    "integrate(1/x**2, (x, 1, oo))"
   ]
  },
  {
   "cell_type": "markdown",
   "metadata": {
    "id": "u0G7YbZ4UKbn"
   },
   "source": [
    "# **Aplicaciones** \n",
    "Una empresa está considerando una inversión de 5 años y estima que dentro de $t$ años la inversión estará generando un flujo de ingresos de $3000 + 50t$ dólares por año. Si la tasa prevaleciente de interés anual permanece fija en $4\\%$, y es capitalizada continuamente durante los 5 años ¿cuál es la inversión en 5 años?\n",
    "\n",
    "El valor de la inversión  se mide como el valor futuro del flujo de ingreso en el término de 5 años es:\n",
    "$\\displaystyle{VF= \\int_0^T f(t) e^{r(T-t)}} dt$\n",
    "\n",
    "## $VF=\\displaystyle {\\int_0^5 (3000+50t)} e^{0.04(5-t)} \\, dt$\n",
    "\n",
    "\n"
   ]
  },
  {
   "cell_type": "code",
   "execution_count": null,
   "metadata": {
    "id": "fT8SRRxSUUvo"
   },
   "outputs": [],
   "source": [
    "x=Symbol('x')\n",
    "u=Symbol('u')\n",
    "f=Symbol('f')\n",
    "g=Symbol('g')\n",
    "u=0.04*(5-x)\n",
    "f=exp(u)\n",
    "g=3000+50*x"
   ]
  },
  {
   "cell_type": "code",
   "execution_count": null,
   "metadata": {
    "colab": {
     "base_uri": "https://localhost:8080/",
     "height": 37
    },
    "executionInfo": {
     "elapsed": 182,
     "status": "ok",
     "timestamp": 1637813988233,
     "user": {
      "displayName": "H4RV3Y H3RN4ND3Z",
      "photoUrl": "https://lh3.googleusercontent.com/a-/AOh14Gh6g8Gd0ymExy-3GPDuM41yz6q1wr7bV66RTDzYKdc=s64",
      "userId": "15751696036387251069"
     },
     "user_tz": 300
    },
    "id": "9Hl6bjeDUhn4",
    "outputId": "e73be3e7-faee-4199-d46a-2a4c86512dc9"
   },
   "outputs": [
    {
     "data": {
      "text/latex": [
       "$\\displaystyle 17274.043054518$"
      ],
      "text/plain": [
       "17274.0430545180"
      ]
     },
     "execution_count": 36,
     "metadata": {},
     "output_type": "execute_result"
    }
   ],
   "source": [
    "integrate(g*f,(x,0,5))"
   ]
  }
 ],
 "metadata": {
  "colab": {
   "authorship_tag": "ABX9TyMxyFYLjAm1XOdrYAsuoPxT",
   "name": "Clase USabana2022.ipynb",
   "provenance": []
  },
  "kernelspec": {
   "display_name": "Python 3",
   "language": "python",
   "name": "python3"
  },
  "language_info": {
   "codemirror_mode": {
    "name": "ipython",
    "version": 3
   },
   "file_extension": ".py",
   "mimetype": "text/x-python",
   "name": "python",
   "nbconvert_exporter": "python",
   "pygments_lexer": "ipython3",
   "version": "3.7.6"
  }
 },
 "nbformat": 4,
 "nbformat_minor": 1
}
